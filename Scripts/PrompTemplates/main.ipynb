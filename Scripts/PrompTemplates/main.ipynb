{
 "cells": [
  {
   "cell_type": "code",
   "execution_count": 1,
   "metadata": {},
   "outputs": [],
   "source": [
    "from dotenv import load_dotenv\n",
    "import os\n",
    "from langchain.chat_models import AzureChatOpenAI\n",
    "import warnings\n",
    "from langchain.chains import LLMChain\n",
    "warnings.filterwarnings(\"ignore\")"
   ]
  },
  {
   "cell_type": "code",
   "execution_count": 2,
   "metadata": {},
   "outputs": [],
   "source": [
    "load_dotenv()\n",
    "api_key = os.getenv('OPENAI_API_KEY')\n",
    "model = AzureChatOpenAI(temperature=0, deployment_name=\"chat\")"
   ]
  },
  {
   "cell_type": "markdown",
   "metadata": {},
   "source": [
    "# PromptTemplate"
   ]
  },
  {
   "cell_type": "code",
   "execution_count": 3,
   "metadata": {},
   "outputs": [],
   "source": [
    "from langchain.prompts import PromptTemplate\n",
    "\n",
    "prompt_template = PromptTemplate.from_template(\n",
    "    \"Tell me a {word1} joke about {word2}. Response in spanish\"\n",
    ")"
   ]
  },
  {
   "cell_type": "code",
   "execution_count": 4,
   "metadata": {},
   "outputs": [
    {
     "data": {
      "text/plain": [
       "'¿Qué hacen las abejas cuando juegan fútbol?\\n\\n¡Hacen colmena!'"
      ]
     },
     "execution_count": 4,
     "metadata": {},
     "output_type": "execute_result"
    }
   ],
   "source": [
    "chain = LLMChain(llm=model, prompt=prompt_template)\n",
    "chain.run(word1=\"sports\", word2=\"abejas\")"
   ]
  },
  {
   "cell_type": "code",
   "execution_count": 5,
   "metadata": {},
   "outputs": [],
   "source": [
    "\n",
    "from langchain_core.prompts import PromptTemplate\n",
    "prompt_template = \"Responde la siguiente pregunta: {question} de manera muy amable\"\n",
    "prompt = PromptTemplate(\n",
    "    input_variables=[\"question\"], template=prompt_template\n",
    ")\n",
    "llm = LLMChain(llm=model, prompt=prompt)"
   ]
  },
  {
   "cell_type": "code",
   "execution_count": 6,
   "metadata": {},
   "outputs": [
    {
     "data": {
      "text/plain": [
       "'¡Claro! Aquí tienes una receta sencilla para hacer pan amasado:\\n\\nIngredientes:\\n- 500 gramos de harina de trigo\\n- 10 gramos de sal\\n- 25 gramos de azúcar\\n- 25 gramos de levadura fresca\\n- 250 ml de agua tibia\\n- 2 cucharadas de aceite de oliva\\n\\nPasos:\\n1. En un recipiente grande, mezcla la harina, la sal y el azúcar.\\n2. En otro recipiente pequeño, disuelve la levadura fresca en el agua tibia y deja reposar durante unos minutos hasta que se active.\\n3. Agrega la levadura activada y el aceite de oliva a la mezcla de harina. Mezcla bien hasta formar una masa pegajosa.\\n4. Espolvorea un poco de harina sobre una superficie limpia y amasa la masa durante unos 10 minutos, hasta que se vuelva suave y elástica.\\n5. Coloca la masa en un recipiente ligeramente engrasado, cubre con un paño húmedo y deja reposar en un lugar cálido durante aproximadamente una hora, o hasta que la masa haya duplicado su tamaño.\\n6. Precalienta el horno a 200 grados Celsius.\\n7. Después de que la masa haya subido, vuelve a amasarla durante unos minutos para quitar el aire.\\n8. Divide la masa en porciones del tamaño deseado y dales forma redonda o alargada.\\n9. Coloca los panes en una bandeja para hornear previamente engrasada o cubierta con papel de hornear.\\n10. Deja reposar los panes durante otros 15-20 minutos para que suban un poco más.\\n11. Hornea los panes en el horno precalentado durante aproximadamente 20-25 minutos, o hasta que estén dorados en la parte superior.\\n12. Retira los panes del horno y déjalos enfriar en una rejilla antes de disfrutarlos.\\n\\n¡Espero que esta receta te sea útil! Si tienes alguna otra pregunta, no dudes en hacerla.'"
      ]
     },
     "execution_count": 6,
     "metadata": {},
     "output_type": "execute_result"
    }
   ],
   "source": [
    "llm.run(question=\"Cómo puedo hacer pan amasado?\")"
   ]
  },
  {
   "cell_type": "code",
   "execution_count": 7,
   "metadata": {},
   "outputs": [
    {
     "name": "stdout",
     "output_type": "stream",
     "text": [
      "Para hacer pan amasado, necesitarás los siguientes ingredientes:\n",
      "\n",
      "- 500 gramos de harina de trigo\n",
      "- 10 gramos de levadura fresca o 5 gramos de levadura seca\n",
      "- 10 gramos de sal\n",
      "- 300 ml de agua tibia\n",
      "- 1 cucharada de aceite de oliva\n",
      "\n",
      "Pasos para hacer el pan amasado:\n",
      "\n",
      "1. En un recipiente grande, mezcla la harina y la sal. Haz un hueco en el centro de la harina y agrega la levadura desmenuzada o la levadura seca.\n",
      "\n",
      "2. Agrega el agua tibia y el aceite de oliva al hueco que hiciste en la harina. Comienza a mezclar los ingredientes con una cuchara de madera o con tus manos.\n",
      "\n",
      "3. Una vez que los ingredientes estén bien mezclados, comienza a amasar la masa sobre una superficie limpia y enharinada. Amasa durante unos 10-15 minutos, hasta que la masa esté suave y elástica.\n",
      "\n",
      "4. Forma una bola con la masa y colócala en un recipiente ligeramente engrasado con aceite. Cubre el recipiente con un paño húmedo y deja que la masa repose en un lugar cálido durante aproximadamente una hora, o hasta que haya duplicado su tamaño.\n",
      "\n",
      "5. Después de que la masa haya levado, vuelve a amasarla durante unos minutos para quitar el aire. Luego, forma la masa en la forma deseada para tu pan: puedes hacer panes redondos, baguettes, panecillos, etc.\n",
      "\n",
      "6. Coloca los panes en una bandeja para hornear previamente engrasada o forrada con papel de hornear. Cubre los panes con un paño húmedo y déjalos reposar durante otros 30-45 minutos, hasta que vuelvan a aumentar de tamaño.\n",
      "\n",
      "7. Precalienta el horno a 200°C. Antes de hornear, puedes hacer cortes decorativos en la parte superior de los panes con un cuchillo afilado.\n",
      "\n",
      "8. Hornea los panes durante aproximadamente 20-25 minutos, o hasta que estén dorados y suenen huecos al golpear la parte inferior.\n",
      "\n",
      "9. Retira los panes del horno y déjalos enfriar sobre una rejilla antes de cortarlos y disfrutarlos.\n",
      "\n",
      "¡Y eso es todo! Ahora puedes disfrutar de tu pan amasado casero."
     ]
    }
   ],
   "source": [
    "from langchain.prompts import ChatPromptTemplate\n",
    "from langchain.schema import StrOutputParser\n",
    "\n",
    "prompt = ChatPromptTemplate.from_messages(\n",
    "    [\n",
    "        (\n",
    "            \"system\",\n",
    "            \"Debes responder la pregunta del usuario\",\n",
    "        ),\n",
    "        (\"human\", \"{question}\"),\n",
    "    ]\n",
    ")\n",
    "runnable = prompt | model | StrOutputParser()\n",
    "\n",
    "for chunk in runnable.stream({\"question\": \"Cómo puedo hacer pan amasado?\"}):\n",
    "    print(chunk, end=\"\", flush=True)"
   ]
  },
  {
   "cell_type": "code",
   "execution_count": 8,
   "metadata": {},
   "outputs": [
    {
     "data": {
      "text/plain": [
       "'juguete'"
      ]
     },
     "execution_count": 8,
     "metadata": {},
     "output_type": "execute_result"
    }
   ],
   "source": [
    "# FewPrompt\n",
    "from langchain.prompts import (\n",
    "    ChatPromptTemplate,\n",
    "    FewShotChatMessagePromptTemplate,\n",
    ")\n",
    "\n",
    "examples = [\n",
    "    {\"input\": \"como\", \"output\": \"cómo\"},\n",
    "    {\"input\": \"estas\", \"output\": \"estás\"},\n",
    "]\n",
    "\n",
    "# This is a prompt template used to format each individual example.\n",
    "example_prompt = ChatPromptTemplate.from_messages(\n",
    "    [\n",
    "        (\"human\", \"{input}\"),\n",
    "        (\"ai\", \"{output}\"),\n",
    "    ]\n",
    ")\n",
    "few_shot_prompt = FewShotChatMessagePromptTemplate(\n",
    "    example_prompt=example_prompt,\n",
    "    examples=examples,\n",
    ")\n",
    "\n",
    "\n",
    "\n",
    "final_prompt = ChatPromptTemplate.from_messages(\n",
    "    [\n",
    "        (\"system\", \"You should correct the user's spelling in Spanish.\"),\n",
    "        few_shot_prompt,\n",
    "        (\"human\", \"{input}\"),\n",
    "    ]\n",
    ")\n",
    "\n",
    "\n",
    "\n",
    "chain = final_prompt | model | StrOutputParser()\n",
    "\n",
    "chain.invoke({\"input\": \"jugete\"})\n"
   ]
  },
  {
   "cell_type": "code",
   "execution_count": 9,
   "metadata": {},
   "outputs": [
    {
     "name": "stdout",
     "output_type": "stream",
     "text": [
      "input_variables=['strings_2'] partial_variables={'strings_1': 'foo'} template='{strings_1}{strings_2}'\n",
      "foobaz\n"
     ]
    }
   ],
   "source": [
    "# Partial promptemplate\n",
    "prompt = PromptTemplate(template=\"{strings_1}{strings_2}\", input_variables=[\"strings_1\", \"strings_2\"])\n",
    "partial_prompt = prompt.partial(strings_1=\"foo\")\n",
    "print(partial_prompt)\n",
    "print(partial_prompt.format(strings_2=\"baz\"))"
   ]
  },
  {
   "cell_type": "code",
   "execution_count": 10,
   "metadata": {},
   "outputs": [
    {
     "name": "stdout",
     "output_type": "stream",
     "text": [
      "foosa\n"
     ]
    },
    {
     "data": {
      "text/plain": [
       "PromptTemplate(input_variables=[], partial_variables={'foo': 'foo', 'bar': 'de'}, template='{foo}{bar}')"
      ]
     },
     "execution_count": 10,
     "metadata": {},
     "output_type": "execute_result"
    }
   ],
   "source": [
    "# Inicializar\n",
    "prompt = PromptTemplate(\n",
    "    template=\"{foo}{bar}\", input_variables=[\"bar\"], partial_variables={\"foo\": \"foo\"}\n",
    ")\n",
    "# print(prompt.format(bar=\"sa\"))\n",
    "# partial_prompt = prompt.partial(foo=\"ca\")\n",
    "partial_prompt = prompt.partial(bar=\"de\")\n",
    "partial_prompt"
   ]
  },
  {
   "cell_type": "code",
   "execution_count": 11,
   "metadata": {},
   "outputs": [
    {
     "name": "stdout",
     "output_type": "stream",
     "text": [
      "El día de hoy Martes estamos a 01/09/2024, 08:47:51\n"
     ]
    }
   ],
   "source": [
    "from datetime import datetime\n",
    "def _get_datetime():\n",
    "    now = datetime.now()\n",
    "    return now.strftime(\"%m/%d/%Y, %H:%M:%S\")\n",
    "\n",
    "prompt = PromptTemplate(\n",
    "    template=\"El día de hoy {day} estamos a {date}\",\n",
    "    input_variables=[\"day\", \"date\"],\n",
    ")\n",
    "partial_prompt = prompt.partial(date=_get_datetime)\n",
    "print(partial_prompt.format(day=\"Martes\"))\n"
   ]
  },
  {
   "cell_type": "code",
   "execution_count": 12,
   "metadata": {},
   "outputs": [
    {
     "data": {
      "text/plain": [
       "'En Argentina, saludamos diciendo \"¡Hola, che!\"'"
      ]
     },
     "execution_count": 12,
     "metadata": {},
     "output_type": "execute_result"
    }
   ],
   "source": [
    "# Pipeline promt\n",
    "from langchain.prompts.pipeline import PipelinePromptTemplate\n",
    "from langchain.prompts.prompt import PromptTemplate\n",
    "\n",
    "full_template = \"\"\"{introduction}\n",
    "\n",
    "{example}\n",
    "\n",
    "{start}\"\"\"\n",
    "\n",
    "full_prompt = PromptTemplate.from_template(full_template)\n",
    "\n",
    "introduction_template = \"\"\"Debes de ayudar a {person} a responder sus preguntas, pero con acento argentino.\"\"\"\n",
    "introduction_prompt = PromptTemplate.from_template(introduction_template)\n",
    "\n",
    "example_template = \"\"\"por ejemplo:\n",
    "\n",
    "Q: {example_q}\n",
    "A: {example_a}\"\"\"\n",
    "example_prompt = PromptTemplate.from_template(example_template)\n",
    "\n",
    "start_template = \"\"\"Ahora responde en argentino la siguiente pregunta:\n",
    "\n",
    "Q: {input}\n",
    "A:\"\"\"\n",
    "start_prompt = PromptTemplate.from_template(start_template)\n",
    "\n",
    "input_prompts = [\n",
    "    (\"introduction\", introduction_prompt),\n",
    "    (\"example\", example_prompt),\n",
    "    (\"start\", start_prompt),\n",
    "]\n",
    "pipeline_prompt = PipelinePromptTemplate(\n",
    "    final_prompt=full_prompt, pipeline_prompts=input_prompts\n",
    ")\n",
    "\n",
    "pipeline_prompt.input_variables\n",
    "\n",
    "chain = pipeline_prompt | model | StrOutputParser()\n",
    "\n",
    "chain.invoke({'example_a':\"se dice vos\", 'example_q':\"como se dice tú en argentino\", 'input':\"como saludan en argentina\", 'person':\"Ignacia\"})"
   ]
  },
  {
   "cell_type": "code",
   "execution_count": null,
   "metadata": {},
   "outputs": [],
   "source": []
  }
 ],
 "metadata": {
  "kernelspec": {
   "display_name": "env",
   "language": "python",
   "name": "python3"
  },
  "language_info": {
   "codemirror_mode": {
    "name": "ipython",
    "version": 3
   },
   "file_extension": ".py",
   "mimetype": "text/x-python",
   "name": "python",
   "nbconvert_exporter": "python",
   "pygments_lexer": "ipython3",
   "version": "3.11.6"
  }
 },
 "nbformat": 4,
 "nbformat_minor": 2
}
