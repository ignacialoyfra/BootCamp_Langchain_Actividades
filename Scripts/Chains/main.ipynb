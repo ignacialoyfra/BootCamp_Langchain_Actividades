{
 "cells": [
  {
   "cell_type": "code",
   "execution_count": 48,
   "metadata": {},
   "outputs": [],
   "source": [
    "from dotenv import load_dotenv\n",
    "import os\n",
    "from langchain.chat_models import AzureChatOpenAI\n",
    "import warnings\n",
    "warnings.filterwarnings(\"ignore\")"
   ]
  },
  {
   "cell_type": "code",
   "execution_count": 49,
   "metadata": {},
   "outputs": [],
   "source": [
    "load_dotenv()\n",
    "api_key = os.getenv('OPENAI_API_KEY')\n",
    "model = AzureChatOpenAI(temperature=0, deployment_name=\"chat\")"
   ]
  },
  {
   "cell_type": "markdown",
   "metadata": {},
   "source": [
    "# Cadenas de utilidad\n",
    "* Son funciones que ya tienen un proposito muy especifico; generar un resumen a partir de textos, resolver preguntas, crear una conversación con memoria o sin memoria.\n"
   ]
  },
  {
   "cell_type": "code",
   "execution_count": 81,
   "metadata": {},
   "outputs": [
    {
     "data": {
      "text/plain": [
       "AIMessage(content='Chile tiene una gran variedad de climas debido a su extensa longitud y a la presencia de la cordillera de los Andes y el océano Pacífico. En general, se pueden identificar cinco zonas climáticas principales:\\n\\n1. Desierto: En el norte de Chile se encuentra el desierto de Atacama, considerado el más árido del mundo. Aquí el clima es extremadamente seco y las temperaturas son altas durante el día y frías durante la noche.\\n\\n2. Mediterráneo: En la zona central de Chile, que incluye ciudades como Santiago, Valparaíso y Viña del Mar, el clima es mediterráneo, con veranos cálidos y secos e inviernos suaves y húmedos.\\n\\n3. Templado lluvioso: En el sur de Chile, desde la región de La Araucanía hasta la región de Los Lagos, el clima es templado lluvioso. Aquí las temperaturas son más frescas durante todo el año y las precipitaciones son abundantes, especialmente en invierno.\\n\\n4. Frío: En la región de Aysén y Magallanes, en el extremo sur de Chile, el clima es frío, con temperaturas bajas durante todo el año y fuertes vientos. También se caracteriza por la presencia de glaciares y fiordos.\\n\\n5. Subantártico: En la isla de Tierra del Fuego, en el extremo sur de Chile, el clima es subantártico, con temperaturas muy bajas, fuertes vientos y precipitaciones constantes.\\n\\nEs importante tener en cuenta que estas descripciones son generales y que dentro de cada zona climática pueden existir variaciones locales.')"
      ]
     },
     "execution_count": 81,
     "metadata": {},
     "output_type": "execute_result"
    }
   ],
   "source": [
    "model.invoke(\"Que tipo de clima hay en Chile?\")"
   ]
  },
  {
   "cell_type": "code",
   "execution_count": 50,
   "metadata": {},
   "outputs": [
    {
     "data": {
      "text/plain": [
       "'The article examines the development of autonomous agents using large language models. It covers the various aspects of these agents, such as planning, memory, and tool use, and includes case studies and proof-of-concept demos. The article acknowledges the challenges and limitations of using language models and provides additional resources for further reading.'"
      ]
     },
     "execution_count": 50,
     "metadata": {},
     "output_type": "execute_result"
    }
   ],
   "source": [
    "# load_summarize_chain\n",
    "from langchain.chains.summarize import load_summarize_chain\n",
    "from langchain_community.document_loaders import WebBaseLoader\n",
    "# Cargamos el pdf\n",
    "loader = WebBaseLoader(\"https://lilianweng.github.io/posts/2023-06-23-agent/\")\n",
    "docs = loader.load()\n",
    "\n",
    "\n",
    "chain = load_summarize_chain(model, chain_type=\"map_reduce\", verbose=False)  #stuff o map_reduce\n",
    "\n",
    "chain.run(docs)"
   ]
  },
  {
   "cell_type": "code",
   "execution_count": 51,
   "metadata": {},
   "outputs": [
    {
     "name": "stdout",
     "output_type": "stream",
     "text": [
      "El artículo discute la idea de construir agentes autónomos utilizando modelos de lenguaje grandes (LLM) como controladores principales. Se presentan varios ejemplos de demostraciones de concepto, como AutoGPT y GPT-Engineer, que demuestran el potencial de los LLM para resolver problemas complejos. El sistema de agente autónomo consta de tres componentes principales: planificación, memoria y uso de herramientas. La planificación implica descomponer tareas complejas en subobjetivos más pequeños y mejorar los resultados a través de la autorreflexión. La memoria incluye la memoria a corto plazo y la memoria a largo plazo, que permite al agente retener y recuperar información. El uso de herramientas implica que el agente aprenda a utilizar API externas para obtener información adicional. Sin embargo, existen desafíos en cuanto a la longitud limitada del contexto, la planificación a largo plazo y la confiabilidad de la interfaz de lenguaje natural.\n"
     ]
    }
   ],
   "source": [
    "from langchain.chains.combine_documents.stuff import StuffDocumentsChain\n",
    "from langchain.chains.llm import LLMChain\n",
    "from langchain.prompts import PromptTemplate\n",
    "\n",
    "prompt_template = \"\"\"Write a concise summary of the following:\n",
    "\"{text}\"\n",
    "CONCISE SUMMARY in spanish:\"\"\"\n",
    "prompt = PromptTemplate.from_template(prompt_template)\n",
    "llm_chain = LLMChain(llm=model, prompt=prompt)\n",
    "stuff_chain = StuffDocumentsChain(llm_chain=llm_chain, document_variable_name=\"text\")\n",
    "print(stuff_chain.run(docs))"
   ]
  },
  {
   "cell_type": "code",
   "execution_count": 52,
   "metadata": {},
   "outputs": [],
   "source": [
    "from langchain_community.document_loaders import PyPDFLoader\n",
    "\n",
    "loader = PyPDFLoader(\"C:/Users/Ignacia/Desktop/Ignacia/WORKBENCH/BootCamp_Langchain_Actividades/Scripts/Chains/resources/GCP.pdf\")\n",
    "pages = loader.load_and_split()"
   ]
  },
  {
   "cell_type": "code",
   "execution_count": 53,
   "metadata": {},
   "outputs": [
    {
     "data": {
      "text/plain": [
       "275"
      ]
     },
     "execution_count": 53,
     "metadata": {},
     "output_type": "execute_result"
    }
   ],
   "source": [
    "len(pages)"
   ]
  },
  {
   "cell_type": "code",
   "execution_count": 54,
   "metadata": {},
   "outputs": [
    {
     "name": "stdout",
     "output_type": "stream",
     "text": [
      "El libro \"Visualizing\" de Priyanka Vergadia es una guía visual de los conceptos clave de Google Cloud. El libro cubre desde los conceptos básicos de la infraestructura de la nube hasta temas más avanzados como análisis de datos, ciencia de datos, aprendizaje automático e inteligencia artificial. Está dirigido a entusiastas de Google Cloud, arquitectos de soluciones en la nube, tomadores de decisiones de TI y profesionales de ingeniería de datos y aprendizaje automático. El libro utiliza ilustraciones para hacer que los conceptos técnicos sean más accesibles y fáciles de entender.\n"
     ]
    }
   ],
   "source": [
    "print(stuff_chain.run(pages[:10]))"
   ]
  },
  {
   "cell_type": "code",
   "execution_count": 55,
   "metadata": {},
   "outputs": [],
   "source": [
    "from langchain.text_splitter import RecursiveCharacterTextSplitter\n",
    "\n",
    "data = loader.load()\n",
    "text_splitter = RecursiveCharacterTextSplitter(\n",
    "        chunk_size = 500,\n",
    "        length_function = len,\n",
    "        chunk_overlap = 250\n",
    ")\n",
    "\n",
    "documents = text_splitter.split_documents(data)"
   ]
  },
  {
   "cell_type": "code",
   "execution_count": 56,
   "metadata": {},
   "outputs": [
    {
     "data": {
      "text/plain": [
       "1767"
      ]
     },
     "execution_count": 56,
     "metadata": {},
     "output_type": "execute_result"
    }
   ],
   "source": [
    "len(documents)"
   ]
  },
  {
   "cell_type": "code",
   "execution_count": 57,
   "metadata": {},
   "outputs": [
    {
     "name": "stdout",
     "output_type": "stream",
     "text": [
      "El resumen conciso del texto proporcionado es que se trata de un libro titulado \"Visualizing\" escrito por Priyanka Vergadia, que ofrece referencias ilustradas para ingenieros y arquitectos de la nube. El libro está protegido por derechos de autor y publicado por Google, LLC y John Wiley & Sons, Inc. El texto también menciona que no se puede reproducir ninguna parte de la publicación sin permiso previo del editor. Además, se advierte que el contenido del libro no garantiza la exactitud o integridad y no se debe considerar como asesoramiento profesional.\n"
     ]
    }
   ],
   "source": [
    "print(stuff_chain.run(documents[:10]))"
   ]
  },
  {
   "cell_type": "code",
   "execution_count": 89,
   "metadata": {},
   "outputs": [
    {
     "data": {
      "text/plain": [
       "'El cuento narra las aventuras de Sara, quien se enfrenta a desafíos emocionantes mientras avanza en su camino. Primero, rescata a un unicornio atrapado en una red de arañas gigantes y luego se enfrenta a un laberinto de espejos enigmático donde debe tomar decisiones difíciles para encontrar la salida. Finalmente, llega al castillo de un malvado mago y, con ingenio y determinación, lo derrota y libera a las criaturas que había capturado. Gracias a su valentía y bondad, Sara se gana el corazón de todos en el mundo mágico. Al decidir regresar a su pueblo, las criaturas la acompañan hasta la puerta que la llevará de regreso a casa, prometiendo visitarla en sueños y aventuras.'"
      ]
     },
     "execution_count": 89,
     "metadata": {},
     "output_type": "execute_result"
    }
   ],
   "source": [
    "from langchain_community.document_loaders import TextLoader\n",
    "# from langchain_openai import OpenAIEmbeddings\n",
    "from langchain.chains import RetrievalQA\n",
    "from langchain.text_splitter import CharacterTextSplitter\n",
    "from langchain_community.vectorstores import Chroma\n",
    "from langchain_community.embeddings.sentence_transformer import (\n",
    "    SentenceTransformerEmbeddings,\n",
    ")\n",
    "from langchain_community.vectorstores import Chroma\n",
    "embedding_function = SentenceTransformerEmbeddings(model_name=\"all-MiniLM-L6-v2\")\n",
    "# Load the document, split it into chunks, embed each chunk and load it into the vector store.\n",
    "raw_documents = TextLoader('C:/Users/Ignacia/Desktop/Ignacia/WORKBENCH/BootCamp_Langchain_Actividades/Scripts/Chains/resources/cuento.txt').load()\n",
    "text_splitter = CharacterTextSplitter(chunk_size=1000, chunk_overlap=0)\n",
    "documents = text_splitter.split_documents(raw_documents)\n",
    "db = Chroma.from_documents(documents, embedding_function)\n",
    "chain_qa = RetrievalQA.from_chain_type(\n",
    "    llm=model,\n",
    "    chain_type=\"stuff\",\n",
    "    retriever = db.as_retriever(search_kwargs={\"k\": 2})\n",
    ")\n",
    "chain_qa.run(\"Entregame un resumen del cuento\")\n",
    "\n"
   ]
  },
  {
   "cell_type": "code",
   "execution_count": null,
   "metadata": {},
   "outputs": [],
   "source": []
  },
  {
   "cell_type": "markdown",
   "metadata": {},
   "source": [
    "# Cadenas fundacionales\n"
   ]
  },
  {
   "cell_type": "code",
   "execution_count": 80,
   "metadata": {},
   "outputs": [
    {
     "data": {
      "text/plain": [
       "'Answer: 70368744177664'"
      ]
     },
     "execution_count": 80,
     "metadata": {},
     "output_type": "execute_result"
    }
   ],
   "source": [
    "from langchain.chains import LLMMathChain\n",
    "llm_math = LLMMathChain.from_llm(model)\n",
    "llm_math.run(\"Cuanto es 2*2**45?\")"
   ]
  },
  {
   "cell_type": "code",
   "execution_count": 63,
   "metadata": {},
   "outputs": [],
   "source": [
    "import re\n",
    "\n",
    "def limpiar_texto(entradas: dict) -> dict:\n",
    "    texto = entradas[\"texto\"]\n",
    "\n",
    "    # Eliminamos los emojis utilizando un amplio rango unicode\n",
    "    # Ten en cuenta que esto podría potencialmente eliminar algunos caracteres válidos que no son en inglés\n",
    "    patron_emoji = re.compile(\n",
    "        \"[\"\n",
    "        \"\\U0001F600-\\U0001F64F\"  # emoticonos\n",
    "        \"\\U0001F300-\\U0001F5FF\"  # símbolos y pictogramas\n",
    "        \"\\U0001F680-\\U0001F6FF\"  # símbolos de transporte y mapas\n",
    "        \"\\U0001F1E0-\\U0001F1FF\"  # banderas (iOS)\n",
    "        \"\\U00002702-\\U000027B0\"\n",
    "        \"\\U000024C2-\\U0001F251\"\n",
    "        \"]+\", flags=re.UNICODE,\n",
    "    )\n",
    "    texto = patron_emoji.sub(r'', texto)\n",
    "\n",
    "    # Removemos las URLs\n",
    "    patron_url = re.compile(r'https?://\\S+|www\\.\\S+')\n",
    "    texto = patron_url.sub(r'', texto)\n",
    "\n",
    "    return {\"texto_limpio\": texto}"
   ]
  },
  {
   "cell_type": "code",
   "execution_count": 64,
   "metadata": {},
   "outputs": [],
   "source": [
    "from langchain.chains import TransformChain\n",
    "\n",
    "chain_clean= TransformChain(\n",
    "    input_variables=[\"texto\"],\n",
    "    output_variables=[\"texto_limpio\"],\n",
    "    transform=limpiar_texto\n",
    ")"
   ]
  },
  {
   "cell_type": "code",
   "execution_count": 65,
   "metadata": {},
   "outputs": [
    {
     "data": {
      "text/plain": [
       "'Visiten está página  '"
      ]
     },
     "execution_count": 65,
     "metadata": {},
     "output_type": "execute_result"
    }
   ],
   "source": [
    "chain_clean.run('Visiten está página https://facebook.com/home 🙈')"
   ]
  },
  {
   "cell_type": "code",
   "execution_count": 66,
   "metadata": {},
   "outputs": [],
   "source": [
    "plantilla = \"\"\"Parafrasea este texto:\n",
    "\n",
    "{texto_limpio}\n",
    "\n",
    "En el estilo de una persona informal de {estilo}.\n",
    "\n",
    "Parafraseado: \"\"\"\n",
    "\n",
    "prompt = PromptTemplate(\n",
    "    input_variables=[\"texto_limpio\", \"estilo\"],\n",
    "    template=plantilla\n",
    ")"
   ]
  },
  {
   "cell_type": "code",
   "execution_count": 67,
   "metadata": {},
   "outputs": [],
   "source": [
    "from langchain.chains import LLMChain\n",
    "\n",
    "chain_style = LLMChain(\n",
    "    llm=model,\n",
    "    prompt=prompt,\n",
    "    output_key='texto_final'\n",
    ")"
   ]
  },
  {
   "cell_type": "code",
   "execution_count": 68,
   "metadata": {},
   "outputs": [],
   "source": [
    "# from torch.utils.data.dataset import ChainDataset\n",
    "from langchain.chains import SequentialChain\n",
    "\n",
    "cadena_sequential = SequentialChain(\n",
    "    chains=[chain_clean, chain_style],\n",
    "    input_variables=[\"texto\", \"estilo\"],\n",
    "    output_variables=[\"texto_final\"]\n",
    ")"
   ]
  },
  {
   "cell_type": "code",
   "execution_count": 69,
   "metadata": {},
   "outputs": [],
   "source": [
    "texto_entrada = \"\"\"\n",
    "¡Monterrey es una ciudad impresionante! 🏙️\n",
    "Es conocida por su impresionante paisaje de montañas ⛰️ y su vibrante cultura norteña.\n",
    "¡No olvides visitar el famoso Museo de Arte Contemporáneo (MARCO)!\n",
    "🖼️ Si eres fanático del fútbol, no puedes perderte un partido de los Rayados o de los Tigres. ⚽\n",
    "Aquí te dejo algunos enlaces para que puedas conocer más sobre esta maravillosa ciudad:\n",
    "https://visitamonterrey.com, https://museomarco.org, https://rayados.com, https://www.tigres.com.mx.\n",
    "¡Monterrey te espera con los brazos abiertos! 😃🇲🇽\n",
    "\"\"\""
   ]
  },
  {
   "cell_type": "code",
   "execution_count": 70,
   "metadata": {},
   "outputs": [
    {
     "data": {
      "text/plain": [
       "{'texto': '\\n¡Monterrey es una ciudad impresionante! 🏙️\\nEs conocida por su impresionante paisaje de montañas ⛰️ y su vibrante cultura norteña.\\n¡No olvides visitar el famoso Museo de Arte Contemporáneo (MARCO)!\\n🖼️ Si eres fanático del fútbol, no puedes perderte un partido de los Rayados o de los Tigres. ⚽\\nAquí te dejo algunos enlaces para que puedas conocer más sobre esta maravillosa ciudad:\\nhttps://visitamonterrey.com, https://museomarco.org, https://rayados.com, https://www.tigres.com.mx.\\n¡Monterrey te espera con los brazos abiertos! 😃🇲🇽\\n',\n",
       " 'estilo': 'Argentina',\n",
       " 'texto_final': '¡Monterrey es una ciudad increíble, che! \\nEs re conocida por su paisaje de montañas impresionante y su cultura norteña re vibrante.\\n¡No te olvides de visitar el re famoso Museo de Arte Contemporáneo (MARCO)!\\nSi sos fanático del fútbol, no te podés perder un partido de los Rayados o de los Tigres. \\nAcá te dejo unos links para que puedas conocer más sobre esta ciudad re copada:\\n   \\n¡Monterrey te espera con los brazos abiertos, che!'}"
      ]
     },
     "execution_count": 70,
     "metadata": {},
     "output_type": "execute_result"
    }
   ],
   "source": [
    "cadena_sequential({'texto': texto_entrada, 'estilo': 'Argentina'})"
   ]
  },
  {
   "cell_type": "code",
   "execution_count": null,
   "metadata": {},
   "outputs": [],
   "source": []
  }
 ],
 "metadata": {
  "kernelspec": {
   "display_name": "env",
   "language": "python",
   "name": "python3"
  },
  "language_info": {
   "codemirror_mode": {
    "name": "ipython",
    "version": 3
   },
   "file_extension": ".py",
   "mimetype": "text/x-python",
   "name": "python",
   "nbconvert_exporter": "python",
   "pygments_lexer": "ipython3",
   "version": "3.11.6"
  }
 },
 "nbformat": 4,
 "nbformat_minor": 2
}
